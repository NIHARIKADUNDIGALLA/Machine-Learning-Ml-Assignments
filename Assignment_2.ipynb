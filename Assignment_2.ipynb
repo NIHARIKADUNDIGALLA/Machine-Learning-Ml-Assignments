{
 "cells": [
  {
   "cell_type": "raw",
   "id": "3a9ea79f",
   "metadata": {},
   "source": [
    "1)Can you think of four examples of unsupervised tasks?\n",
    "Ans:Clustering, visualization, dimensionality reduction , and association rule\n",
    "    learning."
   ]
  },
  {
   "cell_type": "raw",
   "id": "6d6d3e00",
   "metadata": {},
   "source": [
    "2)What is the concept of human learning? Please give two examples.\n",
    "Ans:It is a process of acquiring new understanding, knowledge, behaviors, skills, values, attitudes, and preferences.\n",
    "    Learning to drive a motor-car, typewriting, singing or memorizing a poem or a mathematical table, and music etc."
   ]
  },
  {
   "cell_type": "raw",
   "id": "c12a106b",
   "metadata": {},
   "source": [
    "3)What different forms of human learning are there? \n",
    "Ans:Auditive , visual , haptic ,learning through intellect."
   ]
  },
  {
   "cell_type": "code",
   "execution_count": null,
   "id": "26a2228e",
   "metadata": {},
   "outputs": [],
   "source": []
  }
 ],
 "metadata": {
  "kernelspec": {
   "display_name": "Python 3 (ipykernel)",
   "language": "python",
   "name": "python3"
  },
  "language_info": {
   "codemirror_mode": {
    "name": "ipython",
    "version": 3
   },
   "file_extension": ".py",
   "mimetype": "text/x-python",
   "name": "python",
   "nbconvert_exporter": "python",
   "pygments_lexer": "ipython3",
   "version": "3.9.7"
  }
 },
 "nbformat": 4,
 "nbformat_minor": 5
}
