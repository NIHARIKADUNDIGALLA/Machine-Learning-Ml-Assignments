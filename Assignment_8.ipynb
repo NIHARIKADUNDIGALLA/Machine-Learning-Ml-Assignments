{
 "cells": [
  {
   "cell_type": "raw",
   "id": "90dfbbf6",
   "metadata": {},
   "source": [
    "1)What is feature selection for irrelevant features?\n",
    "Ans:Feature Selection is the process where you automatically or manually select those features which contribute most \n",
    "    to your prediction variable or output in which you are interested in. \n",
    "    Having irrelevant features in your data can decrease the accuracy of the models and make your model learn based\n",
    "    on irrelevant features."
   ]
  },
  {
   "cell_type": "raw",
   "id": "92bc6b96",
   "metadata": {},
   "source": [
    "2)State difference between Euclidean and Manhattan distances?\n",
    "Ans:Euclidean distance is the shortest path between source and destination.\n",
    "    Manhattan distance is sum of all the real distances between source and destination."
   ]
  },
  {
   "cell_type": "raw",
   "id": "7e40a393",
   "metadata": {},
   "source": [
    "3)Distinguish between feature transformation and feature selection.\n",
    "Ans:Feature transformation is transformation of data to improve the accuracy of the algorithm.\n",
    "    Feature selection is removing unnecessary features."
   ]
  }
 ],
 "metadata": {
  "kernelspec": {
   "display_name": "Python 3 (ipykernel)",
   "language": "python",
   "name": "python3"
  },
  "language_info": {
   "codemirror_mode": {
    "name": "ipython",
    "version": 3
   },
   "file_extension": ".py",
   "mimetype": "text/x-python",
   "name": "python",
   "nbconvert_exporter": "python",
   "pygments_lexer": "ipython3",
   "version": "3.9.7"
  }
 },
 "nbformat": 4,
 "nbformat_minor": 5
}
