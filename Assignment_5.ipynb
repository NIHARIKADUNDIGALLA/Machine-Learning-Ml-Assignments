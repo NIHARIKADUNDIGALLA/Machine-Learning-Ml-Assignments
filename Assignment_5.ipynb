{
 "cells": [
  {
   "cell_type": "raw",
   "id": "18c53a08",
   "metadata": {},
   "source": [
    "1)What are the various data pre-processing techniques? \n",
    "Ans:Data Cleaning , Dimensionality Reduction , Feature Engineering , Sampling Data , Data Transformation."
   ]
  },
  {
   "cell_type": "raw",
   "id": "e12a1e50",
   "metadata": {},
   "source": [
    "2)Explain dimensionality reduction ?\n",
    "Ans:Dimensionality reduction is the process of reducing the number of features in a dataset while retaining as much information as possible."
   ]
  },
  {
   "cell_type": "raw",
   "id": "c902210c",
   "metadata": {},
   "source": [
    "3)Describe the various components of a box plot ?\n",
    "Ans:minimum, first quartile, median, third quartile, and maximum."
   ]
  }
 ],
 "metadata": {
  "kernelspec": {
   "display_name": "Python 3 (ipykernel)",
   "language": "python",
   "name": "python3"
  },
  "language_info": {
   "codemirror_mode": {
    "name": "ipython",
    "version": 3
   },
   "file_extension": ".py",
   "mimetype": "text/x-python",
   "name": "python",
   "nbconvert_exporter": "python",
   "pygments_lexer": "ipython3",
   "version": "3.9.7"
  }
 },
 "nbformat": 4,
 "nbformat_minor": 5
}
