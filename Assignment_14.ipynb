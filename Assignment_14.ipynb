{
 "cells": [
  {
   "cell_type": "raw",
   "id": "5e4d7fea",
   "metadata": {},
   "source": [
    "1)1. What is the concept of supervised learning? \n",
    "Ans:In supervised learning the machines are trained using well \"labelled\" training data, and on basis of that data, \n",
    "    machines predict the output."
   ]
  },
  {
   "cell_type": "raw",
   "id": "e81cba09",
   "metadata": {},
   "source": [
    "2)2. In the hospital sector, offer an example of supervised learning.\n",
    "Ans:Accelerated drug discovery and development, cost efficient process."
   ]
  },
  {
   "cell_type": "raw",
   "id": "23dbd82f",
   "metadata": {},
   "source": [
    "3)Give three supervised learning examples.\n",
    "Ans:Text recognition , Spam detection , Customer sentiment analysis."
   ]
  },
  {
   "cell_type": "raw",
   "id": "10130e36",
   "metadata": {},
   "source": [
    "4)In supervised learning, what are classification and regression?\n",
    "Ans:Classification is a supervised machine learning method where the model tries to predict the correct label of a\n",
    "    given input data.\n",
    "    Regression is a supervised machine learning technique which is used to predict continuous values."
   ]
  }
 ],
 "metadata": {
  "kernelspec": {
   "display_name": "Python 3 (ipykernel)",
   "language": "python",
   "name": "python3"
  },
  "language_info": {
   "codemirror_mode": {
    "name": "ipython",
    "version": 3
   },
   "file_extension": ".py",
   "mimetype": "text/x-python",
   "name": "python",
   "nbconvert_exporter": "python",
   "pygments_lexer": "ipython3",
   "version": "3.9.7"
  }
 },
 "nbformat": 4,
 "nbformat_minor": 5
}
