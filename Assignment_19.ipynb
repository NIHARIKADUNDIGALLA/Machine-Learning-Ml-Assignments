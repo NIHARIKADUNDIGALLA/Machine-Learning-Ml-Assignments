{
 "cells": [
  {
   "cell_type": "raw",
   "id": "9f265eaf",
   "metadata": {},
   "source": [
    "1) Give an example of the Apriori algorithm for learning association rules.\n",
    "Ans: list of items purchased by customers, details of website which are frequently visited ."
   ]
  },
  {
   "cell_type": "raw",
   "id": "a812c331",
   "metadata": {},
   "source": [
    "2)In the k-means algorithm, how do you recompute the cluster centroids?\n",
    "Ans:To calculate the centroid from the cluster table just get the position of all points of a single cluster, \n",
    "    sum them up and divide by the number of points.\n"
   ]
  },
  {
   "cell_type": "raw",
   "id": "8cdd2605",
   "metadata": {},
   "source": [
    "3)Discuss the k-means algorithm's advantages and disadvantages.\n",
    "Ans:PROS : Easy to understand , fast , flexible.\n",
    "    CONS : lacks consistency , sensitive to scale."
   ]
  }
 ],
 "metadata": {
  "kernelspec": {
   "display_name": "Python 3 (ipykernel)",
   "language": "python",
   "name": "python3"
  },
  "language_info": {
   "codemirror_mode": {
    "name": "ipython",
    "version": 3
   },
   "file_extension": ".py",
   "mimetype": "text/x-python",
   "name": "python",
   "nbconvert_exporter": "python",
   "pygments_lexer": "ipython3",
   "version": "3.9.7"
  }
 },
 "nbformat": 4,
 "nbformat_minor": 5
}
