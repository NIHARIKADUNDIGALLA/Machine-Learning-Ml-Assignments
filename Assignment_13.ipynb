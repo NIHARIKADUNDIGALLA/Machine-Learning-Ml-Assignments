{
 "cells": [
  {
   "cell_type": "raw",
   "id": "c8b93d5f",
   "metadata": {},
   "source": [
    "1)Can the Nave Bayes classifier be used on continuous numeric data? If so, how can you go about doing it?\n",
    "Ans:Gaussian Naive Bayes is used."
   ]
  },
  {
   "cell_type": "raw",
   "id": "5d5e1ceb",
   "metadata": {},
   "source": [
    "2)Offer an example of how the Nave Bayes classifier is used in real life.\n",
    "Ans:Spam filtering, recommendation systems."
   ]
  },
  {
   "cell_type": "raw",
   "id": "f28617c5",
   "metadata": {},
   "source": [
    "3)What role does Bayes theorem play in the concept learning principle?\n",
    "Ans:It helps determine the likelihood that one event will occur with unclear information while another has already \n",
    "    happened."
   ]
  }
 ],
 "metadata": {
  "kernelspec": {
   "display_name": "Python 3 (ipykernel)",
   "language": "python",
   "name": "python3"
  },
  "language_info": {
   "codemirror_mode": {
    "name": "ipython",
    "version": 3
   },
   "file_extension": ".py",
   "mimetype": "text/x-python",
   "name": "python",
   "nbconvert_exporter": "python",
   "pygments_lexer": "ipython3",
   "version": "3.9.7"
  }
 },
 "nbformat": 4,
 "nbformat_minor": 5
}
