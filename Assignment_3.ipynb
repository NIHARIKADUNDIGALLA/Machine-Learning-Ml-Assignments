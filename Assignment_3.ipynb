{
 "cells": [
  {
   "cell_type": "raw",
   "id": "ba2611b3",
   "metadata": {},
   "source": [
    "1)Explain two machine learning applications in the business world. \n",
    "Ans:Real - time chatbot agents , fraud detection."
   ]
  },
  {
   "cell_type": "raw",
   "id": "4ac09fc4",
   "metadata": {},
   "source": [
    "2)Examine the various forms of machine learning.\n",
    "Ans:supervised, unsupervised, and reinforcement learning , semi supervised learning.\n"
   ]
  },
  {
   "cell_type": "raw",
   "id": "5c42aa12",
   "metadata": {},
   "source": [
    "3)What are the various methods and technologies for solving machine learning problems? \n",
    "Ans:TensorFlow is more popular in machine learning, but it has a learning curve. Scikit-learn and \n",
    "    PyTorch are also popular tools for machine learning and both support Python programming language. \n"
   ]
  },
  {
   "cell_type": "code",
   "execution_count": null,
   "id": "7dcc5d18",
   "metadata": {},
   "outputs": [],
   "source": []
  }
 ],
 "metadata": {
  "kernelspec": {
   "display_name": "Python 3 (ipykernel)",
   "language": "python",
   "name": "python3"
  },
  "language_info": {
   "codemirror_mode": {
    "name": "ipython",
    "version": 3
   },
   "file_extension": ".py",
   "mimetype": "text/x-python",
   "name": "python",
   "nbconvert_exporter": "python",
   "pygments_lexer": "ipython3",
   "version": "3.9.7"
  }
 },
 "nbformat": 4,
 "nbformat_minor": 5
}
