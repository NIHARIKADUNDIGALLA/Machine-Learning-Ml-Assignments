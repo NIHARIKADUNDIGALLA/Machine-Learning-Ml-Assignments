{
 "cells": [
  {
   "cell_type": "raw",
   "id": "65f3606f",
   "metadata": {},
   "source": [
    "1)Recognize the differences between supervised, semi-supervised, and unsupervised learning.\n",
    "Ans:Supervised Learning predicts based on a class type. Unsupervised Learning discovers underlying patterns.\n",
    "    Supervised learning maps labelled data to known output."
   ]
  },
  {
   "cell_type": "raw",
   "id": "ce9d91a7",
   "metadata": {},
   "source": [
    "2)Describe in detail any five examples of classification problems.\n",
    "Ans:Email Spam:The goal is to predict whether an email is a spam and should be delivered to the Junk folder.\n",
    "Handwritten Digit Recognition:The goal is to identify images of single digits 0 - 9 correctly.\n",
    "Image segmentation\n",
    "Sppech recognition\n",
    "DNA classification"
   ]
  },
  {
   "cell_type": "raw",
   "id": "c41e668e",
   "metadata": {},
   "source": [
    "3)5. What are some of the benefits and drawbacks of SVM?\n",
    "Ans:PROS:\n",
    "    SVM works relatively well when there is a clear margin of separation between classes.\n",
    "    SVM is more effective in high dimensional spaces.\n",
    "    CONS:\n",
    "    SVM algorithm is not suitable for large data sets.\n",
    "    SVM does not perform very well when the data set has more noise i.e. target classes are overlapping."
   ]
  }
 ],
 "metadata": {
  "kernelspec": {
   "display_name": "Python 3 (ipykernel)",
   "language": "python",
   "name": "python3"
  },
  "language_info": {
   "codemirror_mode": {
    "name": "ipython",
    "version": 3
   },
   "file_extension": ".py",
   "mimetype": "text/x-python",
   "name": "python",
   "nbconvert_exporter": "python",
   "pygments_lexer": "ipython3",
   "version": "3.9.7"
  }
 },
 "nbformat": 4,
 "nbformat_minor": 5
}
