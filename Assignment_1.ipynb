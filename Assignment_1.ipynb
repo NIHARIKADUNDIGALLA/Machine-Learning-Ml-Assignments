{
 "cells": [
  {
   "cell_type": "raw",
   "id": "a30b4e7d",
   "metadata": {},
   "source": [
    "1) What does one mean by the term \"machine learning\"?\n",
    "Ans:Machine learning is an application of AI that enables systems to learn and improve from experience without being \n",
    "    explicitly programmed."
   ]
  },
  {
   "cell_type": "raw",
   "id": "0ea266b7",
   "metadata": {},
   "source": [
    "2)Can you think of 4 distinct types of issues where it shines?\n",
    "Ans:Supervised Learning,Unsupervised Learning,Semi-Supervised LearningReinforced Learning."
   ]
  },
  {
   "cell_type": "raw",
   "id": "4b4ea414",
   "metadata": {},
   "source": [
    "3)What is a labeled training set, and how does it work?\n",
    "Ans:The training set is used to train the algorithm, and then you use the trained model on the test set to predict \n",
    "    the response variable values that are already known.  \n"
   ]
  },
  {
   "cell_type": "raw",
   "id": "d6d83796",
   "metadata": {},
   "source": [
    "4)What are the two most important tasks that are supervised?\n",
    "Ans:Regression and Classification.\n",
    "    "
   ]
  }
 ],
 "metadata": {
  "kernelspec": {
   "display_name": "Python 3 (ipykernel)",
   "language": "python",
   "name": "python3"
  },
  "language_info": {
   "codemirror_mode": {
    "name": "ipython",
    "version": 3
   },
   "file_extension": ".py",
   "mimetype": "text/x-python",
   "name": "python",
   "nbconvert_exporter": "python",
   "pygments_lexer": "ipython3",
   "version": "3.9.7"
  }
 },
 "nbformat": 4,
 "nbformat_minor": 5
}
