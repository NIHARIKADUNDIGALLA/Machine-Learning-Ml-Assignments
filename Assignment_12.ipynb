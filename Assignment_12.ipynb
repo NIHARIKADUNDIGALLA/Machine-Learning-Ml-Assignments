{
 "cells": [
  {
   "cell_type": "raw",
   "id": "bfbbbf50",
   "metadata": {},
   "source": [
    "1)Define the concept of consistent learners?\n",
    "Ans:A learning algorithm is a consistent learner if it commits zero errors over the training ."
   ]
  },
  {
   "cell_type": "raw",
   "id": "c9af075a",
   "metadata": {},
   "source": [
    "2)Write any two weaknesses of Bayes classifier.\n",
    "Ans:Naive Bayes assumes that all predictors (or features) are independent, rarely happening in real life. \n",
    "    This limits the applicability of this algorithm in real-world use cases.\n",
    "    Its estimations can be wrong in some cases, so you shouldn’t take its probability outputs very seriously. \n"
   ]
  },
  {
   "cell_type": "raw",
   "id": "31f85648",
   "metadata": {},
   "source": [
    "3)What is Naïve Bayes classifier?\n",
    "Ans: Naive Bayes classifiers are a collection of classification algorithms based on Bayes theorem.\n"
   ]
  }
 ],
 "metadata": {
  "kernelspec": {
   "display_name": "Python 3 (ipykernel)",
   "language": "python",
   "name": "python3"
  },
  "language_info": {
   "codemirror_mode": {
    "name": "ipython",
    "version": 3
   },
   "file_extension": ".py",
   "mimetype": "text/x-python",
   "name": "python",
   "nbconvert_exporter": "python",
   "pygments_lexer": "ipython3",
   "version": "3.9.7"
  }
 },
 "nbformat": 4,
 "nbformat_minor": 5
}
