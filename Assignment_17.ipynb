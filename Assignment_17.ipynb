{
 "cells": [
  {
   "cell_type": "raw",
   "id": "a8ea35ee",
   "metadata": {},
   "source": [
    "1)Using a graph to illustrate slope and intercept, define basic linear regression.\n",
    "Ans:The slope indicates the steepness of a line and the intercept indicates the location where it intersects an axis. \n",
    "    Linear regression analysis is used to predict the value of a variable based on the value of another variable."
   ]
  },
  {
   "cell_type": "raw",
   "id": "09f115c6",
   "metadata": {},
   "source": [
    "2)What is the regression's standard error? \n",
    "Ans:represents the average distance that the observed values fall from the regression line."
   ]
  },
  {
   "cell_type": "raw",
   "id": "3bb31e96",
   "metadata": {},
   "source": [
    "3)Describe two major issues with regression analysis.\n",
    "Ans:Heteroscedacity and multicollinearity."
   ]
  },
  {
   "cell_type": "code",
   "execution_count": null,
   "id": "dbed2eff",
   "metadata": {},
   "outputs": [],
   "source": []
  }
 ],
 "metadata": {
  "kernelspec": {
   "display_name": "Python 3 (ipykernel)",
   "language": "python",
   "name": "python3"
  },
  "language_info": {
   "codemirror_mode": {
    "name": "ipython",
    "version": 3
   },
   "file_extension": ".py",
   "mimetype": "text/x-python",
   "name": "python",
   "nbconvert_exporter": "python",
   "pygments_lexer": "ipython3",
   "version": "3.9.7"
  }
 },
 "nbformat": 4,
 "nbformat_minor": 5
}
