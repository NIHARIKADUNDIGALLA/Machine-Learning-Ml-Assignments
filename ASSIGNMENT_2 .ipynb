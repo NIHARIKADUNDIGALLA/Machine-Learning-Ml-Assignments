{
 "cells": [
  {
   "cell_type": "code",
   "execution_count": 4,
   "id": "1824b83a",
   "metadata": {},
   "outputs": [
    {
     "data": {
      "text/plain": [
       "16"
      ]
     },
     "execution_count": 4,
     "metadata": {},
     "output_type": "execute_result"
    }
   ],
   "source": [
    "#1)1. Write a function that takes a positive integer num and calculates how many dots exist in a pentagonal shape \n",
    "#around the center dot on the Nth iteration.\n",
    "\n",
    "def PentagonalNumber(num): \n",
    "    num = num - 1\n",
    "    number = ((5*(num**2)) + (5*num) + 2) / 2 \n",
    "    return int(number)\n",
    "\n",
    "PentagonalNumber(3)"
   ]
  },
  {
   "cell_type": "code",
   "execution_count": 15,
   "id": "eaa4761f",
   "metadata": {},
   "outputs": [
    {
     "data": {
      "text/plain": [
       "'0n0n0baca'"
      ]
     },
     "execution_count": 15,
     "metadata": {},
     "output_type": "execute_result"
    }
   ],
   "source": [
    "#2)Make a function that encrypts a given input with these steps:\n",
    "\n",
    "def encrypt(input):\n",
    "    rev=input[::-1]\n",
    "    vowels={\"a\":0,\"e\":1,'i':2,'o':2,'u':3}\n",
    "    list=[]\n",
    "    for i in rev:\n",
    "        if i in vowels.keys():\n",
    "            list.append(vowels[i])\n",
    "        else:\n",
    "            list.append(i)\n",
    "    list=[str(i) for i in list]\n",
    "    list=''.join(list)\n",
    "    return list+'aca'\n",
    "\n",
    "encrypt('banana')"
   ]
  },
  {
   "cell_type": "code",
   "execution_count": 5,
   "id": "325bf790",
   "metadata": {},
   "outputs": [
    {
     "data": {
      "text/plain": [
       "'True'"
      ]
     },
     "execution_count": 5,
     "metadata": {},
     "output_type": "execute_result"
    }
   ],
   "source": [
    "#3)Given the month and year as numbers, return whether that month contains a Friday 13th\n",
    "\n",
    "from datetime import date\n",
    "\n",
    "def has_friday_13(month, year): \n",
    "    return str(date(year,month,13).strftime(\"%A\")=='Friday')\n",
    "\n",
    "has_friday_13(3,2020)"
   ]
  },
  {
   "cell_type": "code",
   "execution_count": 7,
   "id": "561e344e",
   "metadata": {},
   "outputs": [
    {
     "data": {
      "text/plain": [
       "2"
      ]
     },
     "execution_count": 7,
     "metadata": {},
     "output_type": "execute_result"
    }
   ],
   "source": [
    "#4) Write a regular expression that will help us count how many bad cookies are produced every day.\n",
    "\n",
    "import re\n",
    "\n",
    "def cookie():\n",
    "    lst = [\"bad cookie\", \"good cookie\", \"bad cookie\", \"good cookie\", \"good cookie\"]\n",
    "    pattern = \"bad cookie\"\n",
    "\n",
    "    return len(re.findall(pattern, \", \".join(lst))) \n",
    "\n",
    "cookie()"
   ]
  },
  {
   "cell_type": "code",
   "execution_count": null,
   "id": "1a2a09d4",
   "metadata": {},
   "outputs": [],
   "source": []
  },
  {
   "cell_type": "code",
   "execution_count": null,
   "id": "cf5b7841",
   "metadata": {},
   "outputs": [],
   "source": []
  },
  {
   "cell_type": "code",
   "execution_count": null,
   "id": "ebb1b339",
   "metadata": {},
   "outputs": [],
   "source": []
  },
  {
   "cell_type": "code",
   "execution_count": null,
   "id": "c9ad7c36",
   "metadata": {},
   "outputs": [],
   "source": []
  }
 ],
 "metadata": {
  "kernelspec": {
   "display_name": "Python 3 (ipykernel)",
   "language": "python",
   "name": "python3"
  },
  "language_info": {
   "codemirror_mode": {
    "name": "ipython",
    "version": 3
   },
   "file_extension": ".py",
   "mimetype": "text/x-python",
   "name": "python",
   "nbconvert_exporter": "python",
   "pygments_lexer": "ipython3",
   "version": "3.9.7"
  }
 },
 "nbformat": 4,
 "nbformat_minor": 5
}
