{
 "cells": [
  {
   "cell_type": "raw",
   "id": "9a3915e2",
   "metadata": {},
   "source": [
    "1)What is the concept of a support vector?\n",
    "Ans:Support vectors are data points that are closer to the hyperplane and influence the position and orientation \n",
    "    of the hyperplane. "
   ]
  },
  {
   "cell_type": "raw",
   "id": "9de053b4",
   "metadata": {},
   "source": [
    "2)When using SVMs, why is it necessary to scale the inputs?\n",
    "Ans:Standardized data (mean 0 , var 1). "
   ]
  },
  {
   "cell_type": "raw",
   "id": "1b7afc1d",
   "metadata": {},
   "source": [
    "3)What is the underlying concept of Support Vector Machines?\n",
    "Ans: The objective of the support vector machine algorithm is to find a hyperplane in an N-dimensional \n",
    "    space(N — the number of features) that distinctly classifies the data points."
   ]
  }
 ],
 "metadata": {
  "kernelspec": {
   "display_name": "Python 3 (ipykernel)",
   "language": "python",
   "name": "python3"
  },
  "language_info": {
   "codemirror_mode": {
    "name": "ipython",
    "version": 3
   },
   "file_extension": ".py",
   "mimetype": "text/x-python",
   "name": "python",
   "nbconvert_exporter": "python",
   "pygments_lexer": "ipython3",
   "version": "3.9.7"
  }
 },
 "nbformat": 4,
 "nbformat_minor": 5
}
