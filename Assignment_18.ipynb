{
 "cells": [
  {
   "cell_type": "raw",
   "id": "d182001e",
   "metadata": {},
   "source": [
    "1)What is the difference between supervised and unsupervised learning? \n",
    "Ans:Supervised learning algorithms are trained using labeled data. \n",
    "    Unsupervised learning algorithms are trained using unlabeled data."
   ]
  },
  {
   "cell_type": "raw",
   "id": "9a375afe",
   "metadata": {},
   "source": [
    "2)Mention a few unsupervised learning applications.\n",
    "Ans:Products segmentation , Similarity detection , Customer segmentation."
   ]
  },
  {
   "cell_type": "raw",
   "id": "2a530a0b",
   "metadata": {},
   "source": [
    "3) What is a dendrogram?\n",
    "Ans:A dendrogram is a diagram that shows the hierarchical relationship between objects. It is most commonly created \n",
    "    as an output from hierarchical clustering."
   ]
  },
  {
   "cell_type": "code",
   "execution_count": null,
   "id": "c6bd241e",
   "metadata": {},
   "outputs": [],
   "source": []
  }
 ],
 "metadata": {
  "kernelspec": {
   "display_name": "Python 3 (ipykernel)",
   "language": "python",
   "name": "python3"
  },
  "language_info": {
   "codemirror_mode": {
    "name": "ipython",
    "version": 3
   },
   "file_extension": ".py",
   "mimetype": "text/x-python",
   "name": "python",
   "nbconvert_exporter": "python",
   "pygments_lexer": "ipython3",
   "version": "3.9.7"
  }
 },
 "nbformat": 4,
 "nbformat_minor": 5
}
