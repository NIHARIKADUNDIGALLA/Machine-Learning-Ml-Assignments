{
 "cells": [
  {
   "cell_type": "raw",
   "id": "a20b31f0",
   "metadata": {},
   "source": [
    "1) What is prior probability?\n",
    "Ans:Prior probability shows the likelihood of an outcome in a given dataset."
   ]
  },
  {
   "cell_type": "raw",
   "id": "aeabef71",
   "metadata": {},
   "source": [
    "2)What is posterior probability? Give an example.\n",
    "Ans: A posterior probability is the revised or updated probability of an event occurring after taking into \n",
    "    consideration new information."
   ]
  },
  {
   "cell_type": "raw",
   "id": "ced0c314",
   "metadata": {},
   "source": [
    "3)What is optimal Bayes classifier?\n",
    "Ans:Bayes Optimal Classifier is a probabilistic framework that finds the most probable prediction using the training \n",
    "    data and space of hypotheses to make a prediction for a new data instance"
   ]
  }
 ],
 "metadata": {
  "kernelspec": {
   "display_name": "Python 3 (ipykernel)",
   "language": "python",
   "name": "python3"
  },
  "language_info": {
   "codemirror_mode": {
    "name": "ipython",
    "version": 3
   },
   "file_extension": ".py",
   "mimetype": "text/x-python",
   "name": "python",
   "nbconvert_exporter": "python",
   "pygments_lexer": "ipython3",
   "version": "3.9.7"
  }
 },
 "nbformat": 4,
 "nbformat_minor": 5
}
