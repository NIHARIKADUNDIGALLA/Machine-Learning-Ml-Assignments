{
 "cells": [
  {
   "cell_type": "raw",
   "id": "9c92d5e8",
   "metadata": {},
   "source": [
    "1)Define probability of a union of two events with equation.\n",
    "Ans:The probability of the union of two events depends on the probability of either event and the probability of\n",
    "    only one of the events occuring.\n",
    "    P(A or B) = P(A) + P(B)"
   ]
  },
  {
   "cell_type": "raw",
   "id": "6dd0f903",
   "metadata": {},
   "source": [
    "2)What is joint probability?\n",
    "Ans:Joint probability is a statistical measure that calculates the likelihood of two events occurring together and \n",
    "    at the same point in time."
   ]
  },
  {
   "cell_type": "raw",
   "id": "55f4eecc",
   "metadata": {},
   "source": [
    "3)What are continuous random variables?\n",
    "Ans:A continuous random variable is a random variable that has only continuous values. \n"
   ]
  },
  {
   "cell_type": "raw",
   "id": "35c07a91",
   "metadata": {},
   "source": [
    "4)What are Bernoulli distributions?\n",
    "Ans:A Bernoulli distribution is a discrete distribution with only two possible values for the random variable."
   ]
  },
  {
   "cell_type": "raw",
   "id": "c070666c",
   "metadata": {},
   "source": [
    "5)What is Poisson distribution?\n",
    "Ans:Poisson distribution is a probability distribution that is used to show how many times an event is likely to occur over a specified period."
   ]
  },
  {
   "cell_type": "raw",
   "id": "eaf1bffb",
   "metadata": {},
   "source": [
    "6)Define correlation?\n",
    "Ans:Correlation refers to a process for establishing the relationships between two variables."
   ]
  }
 ],
 "metadata": {
  "kernelspec": {
   "display_name": "Python 3 (ipykernel)",
   "language": "python",
   "name": "python3"
  },
  "language_info": {
   "codemirror_mode": {
    "name": "ipython",
    "version": 3
   },
   "file_extension": ".py",
   "mimetype": "text/x-python",
   "name": "python",
   "nbconvert_exporter": "python",
   "pygments_lexer": "ipython3",
   "version": "3.9.7"
  }
 },
 "nbformat": 4,
 "nbformat_minor": 5
}
