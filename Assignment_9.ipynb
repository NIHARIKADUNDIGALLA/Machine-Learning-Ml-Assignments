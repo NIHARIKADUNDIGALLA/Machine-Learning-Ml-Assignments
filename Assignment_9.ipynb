{
 "cells": [
  {
   "cell_type": "raw",
   "id": "2a552c62",
   "metadata": {},
   "source": [
    "1)What is feature engineering, and how does it work? \n",
    "Ans:Feature engineering is the process of selecting, transforming, extracting, combining, and manipulating raw data to\n",
    "    generate the desired variables for analysis or predictive modeling."
   ]
  },
  {
   "cell_type": "raw",
   "id": "0930dd74",
   "metadata": {},
   "source": [
    "2)What is feature selection, and how does it work?\n",
    "Ans:Feature Selection is the method of reducing the input variable to your model by using only relevant data and\n",
    "    getting rid of noise in data. "
   ]
  },
  {
   "cell_type": "raw",
   "id": "0e3a280b",
   "metadata": {},
   "source": [
    "3)What Hamming distance? \n",
    "Ans:Hamming distance is a metric for comparing two binary data strings. "
   ]
  },
  {
   "cell_type": "raw",
   "id": "767fd124",
   "metadata": {},
   "source": [
    "4) Describe the function selection filter and wrapper approaches.\n",
    "Ans:Filter methods measure the relevance of features by their correlation with dependent variable while wrapper\n",
    "    methods measure the usefulness of a subset of feature by actually training a model on it."
   ]
  },
  {
   "cell_type": "code",
   "execution_count": null,
   "id": "ec2346da",
   "metadata": {},
   "outputs": [],
   "source": []
  }
 ],
 "metadata": {
  "kernelspec": {
   "display_name": "Python 3 (ipykernel)",
   "language": "python",
   "name": "python3"
  },
  "language_info": {
   "codemirror_mode": {
    "name": "ipython",
    "version": 3
   },
   "file_extension": ".py",
   "mimetype": "text/x-python",
   "name": "python",
   "nbconvert_exporter": "python",
   "pygments_lexer": "ipython3",
   "version": "3.9.7"
  }
 },
 "nbformat": 4,
 "nbformat_minor": 5
}
