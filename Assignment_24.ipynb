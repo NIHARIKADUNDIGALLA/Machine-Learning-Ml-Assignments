{
 "cells": [
  {
   "cell_type": "raw",
   "id": "a7dcd74b",
   "metadata": {},
   "source": [
    "1)What is your definition of clustering? What are a few clustering algorithms you might think of?\n",
    "Ans:Clustering is a technique used to group similar objects together.\n",
    "    Few clustering algorithms are k-mean s, DBSCAN , mini - batch."
   ]
  },
  {
   "cell_type": "raw",
   "id": "8f287929",
   "metadata": {},
   "source": [
    "2)What are some of the most popular clustering algorithm applications?\n",
    "Ans:k-means algorithm."
   ]
  },
  {
   "cell_type": "raw",
   "id": "4eada7ff",
   "metadata": {},
   "source": [
    "3)What is a Gaussian mixture, and how does it work? \n",
    "Ans:A Gaussian mixture model is a probabilistic model that assumes all the data points are generated from a mixture \n",
    "    of a finite number of Gaussian distributions with unknown parameters."
   ]
  }
 ],
 "metadata": {
  "kernelspec": {
   "display_name": "Python 3 (ipykernel)",
   "language": "python",
   "name": "python3"
  },
  "language_info": {
   "codemirror_mode": {
    "name": "ipython",
    "version": 3
   },
   "file_extension": ".py",
   "mimetype": "text/x-python",
   "name": "python",
   "nbconvert_exporter": "python",
   "pygments_lexer": "ipython3",
   "version": "3.9.7"
  }
 },
 "nbformat": 4,
 "nbformat_minor": 5
}
