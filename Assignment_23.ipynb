{
 "cells": [
  {
   "cell_type": "raw",
   "id": "d09747f6",
   "metadata": {},
   "source": [
    "1) What are the key reasons for reducing the dimensionality of a dataset?\n",
    "Ans:Less complexity , less memory."
   ]
  },
  {
   "cell_type": "raw",
   "id": "d867ebdd",
   "metadata": {},
   "source": [
    "2)What is the dimensionality curse?\n",
    "Ans:The curse of dimensionality basically means that the error increases with the increase in the number of features."
   ]
  },
  {
   "cell_type": "raw",
   "id": "fd68d653",
   "metadata": {},
   "source": [
    "3)Is it logical to use two different dimensionality reduction algorithms in a chain?\n",
    "Ans: Yes , example PCA."
   ]
  }
 ],
 "metadata": {
  "kernelspec": {
   "display_name": "Python 3 (ipykernel)",
   "language": "python",
   "name": "python3"
  },
  "language_info": {
   "codemirror_mode": {
    "name": "ipython",
    "version": 3
   },
   "file_extension": ".py",
   "mimetype": "text/x-python",
   "name": "python",
   "nbconvert_exporter": "python",
   "pygments_lexer": "ipython3",
   "version": "3.9.7"
  }
 },
 "nbformat": 4,
 "nbformat_minor": 5
}
