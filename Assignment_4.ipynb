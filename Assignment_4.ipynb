{
 "cells": [
  {
   "cell_type": "raw",
   "id": "8de78289",
   "metadata": {},
   "source": [
    "1)Distinguish between Numeric vs. categorical attributes?\n",
    "Ans:Categorical data refers to a data type that can be stored and identified based on the names or labels given to them.\n",
    "    Numerical data refers to the data that is in the form of numbers."
   ]
  },
  {
   "cell_type": "raw",
   "id": "c83f4d8b",
   "metadata": {},
   "source": [
    "2)Distinguish between Feature selection vs. dimensionality reduction?\n",
    "Ans:Feature selection is simply selecting and excluding given features without changing them.\n",
    "    Dimensionality reduction transforms features into a lower dimension."
   ]
  },
  {
   "cell_type": "raw",
   "id": "61cb5d4e",
   "metadata": {},
   "source": [
    "3)What are the various histogram shapes?\n",
    "Ans:Uniform histogram , Symmetric histogram , Bimodal histogram."
   ]
  },
  {
   "cell_type": "code",
   "execution_count": null,
   "id": "d9e673eb",
   "metadata": {},
   "outputs": [],
   "source": []
  }
 ],
 "metadata": {
  "kernelspec": {
   "display_name": "Python 3 (ipykernel)",
   "language": "python",
   "name": "python3"
  },
  "language_info": {
   "codemirror_mode": {
    "name": "ipython",
    "version": 3
   },
   "file_extension": ".py",
   "mimetype": "text/x-python",
   "name": "python",
   "nbconvert_exporter": "python",
   "pygments_lexer": "ipython3",
   "version": "3.9.7"
  }
 },
 "nbformat": 4,
 "nbformat_minor": 5
}
