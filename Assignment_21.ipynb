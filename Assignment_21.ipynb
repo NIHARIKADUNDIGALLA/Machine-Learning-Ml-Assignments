{
 "cells": [
  {
   "cell_type": "raw",
   "id": "15efb5c6",
   "metadata": {},
   "source": [
    "1)What is the estimated depth of a Decision Tree trained (unrestricted) on a one million instance training set?\n",
    "Ans : log2(106) ≈ 20"
   ]
  },
  {
   "cell_type": "raw",
   "id": "48b377c1",
   "metadata": {},
   "source": [
    "2)Explain if its a good idea to reduce max depth if a Decision Tree is overfitting the training set?\n",
    "Ans:If a Decision Tree is overfitting the training set, it may be a good idea to decrease max_depth, since this will \n",
    "    constrain the model, regularizing it."
   ]
  },
  {
   "cell_type": "raw",
   "id": "503ee393",
   "metadata": {},
   "source": [
    "3)Explain if its a  good idea to try scaling the input features if a Decision Tree underfits the training set?\n",
    "Ans:Decision Trees don't care whether or not the training data is scaled or centered; scaling the input features \n",
    "    will just be a waste of time."
   ]
  }
 ],
 "metadata": {
  "kernelspec": {
   "display_name": "Python 3 (ipykernel)",
   "language": "python",
   "name": "python3"
  },
  "language_info": {
   "codemirror_mode": {
    "name": "ipython",
    "version": 3
   },
   "file_extension": ".py",
   "mimetype": "text/x-python",
   "name": "python",
   "nbconvert_exporter": "python",
   "pygments_lexer": "ipython3",
   "version": "3.9.7"
  }
 },
 "nbformat": 4,
 "nbformat_minor": 5
}
