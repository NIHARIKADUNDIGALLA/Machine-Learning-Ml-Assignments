{
 "cells": [
  {
   "cell_type": "raw",
   "id": "2ed62394",
   "metadata": {},
   "source": [
    "1) In the sense of machine learning models, what is underfitting?\n",
    "Ans:Underfitting means that your model makes accurate, but initially incorrect predictions. In this case, train error is large and val/test error is large too."
   ]
  },
  {
   "cell_type": "raw",
   "id": "acf09ee3",
   "metadata": {},
   "source": [
    "2) In the sense of machine learning models, what is overfitting?\n",
    "Ans:Overfitting means that your model makes not accurate predictions. In this case, train error is very small and val/test error is large."
   ]
  },
  {
   "cell_type": "raw",
   "id": "e54a149e",
   "metadata": {},
   "source": [
    "3)Explain the bias-variance trade-off?\n",
    "Ans:The bias–variance tradeoff is the property of a model that the variance of the parameter estimated across \n",
    "    samples can be reduced by increasing the bias in the estimated parameters."
   ]
  }
 ],
 "metadata": {
  "kernelspec": {
   "display_name": "Python 3 (ipykernel)",
   "language": "python",
   "name": "python3"
  },
  "language_info": {
   "codemirror_mode": {
    "name": "ipython",
    "version": 3
   },
   "file_extension": ".py",
   "mimetype": "text/x-python",
   "name": "python",
   "nbconvert_exporter": "python",
   "pygments_lexer": "ipython3",
   "version": "3.9.7"
  }
 },
 "nbformat": 4,
 "nbformat_minor": 5
}
