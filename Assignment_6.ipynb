{
 "cells": [
  {
   "cell_type": "raw",
   "id": "5441bc0d",
   "metadata": {},
   "source": [
    "1) In the sense of machine learning, what is a model? \n",
    "Ans:A machine learning model is a file that has been trained to recognize certain types of patterns."
   ]
  },
  {
   "cell_type": "raw",
   "id": "1316f71f",
   "metadata": {},
   "source": [
    "2)Describe the K-fold cross-validation mechanism ?\n",
    "Ans:The data sample is split into ‘k’ number of smaller samples."
   ]
  },
  {
   "cell_type": "raw",
   "id": "c8daec3a",
   "metadata": {},
   "source": [
    "3)Describe the bootstrap sampling method.\n",
    "Ans:Bootstrapping is a method that estimates the sampling distribution by taking multiple samples with replacement \n",
    "    from a single random sample."
   ]
  }
 ],
 "metadata": {
  "kernelspec": {
   "display_name": "Python 3 (ipykernel)",
   "language": "python",
   "name": "python3"
  },
  "language_info": {
   "codemirror_mode": {
    "name": "ipython",
    "version": 3
   },
   "file_extension": ".py",
   "mimetype": "text/x-python",
   "name": "python",
   "nbconvert_exporter": "python",
   "pygments_lexer": "ipython3",
   "version": "3.9.7"
  }
 },
 "nbformat": 4,
 "nbformat_minor": 5
}
