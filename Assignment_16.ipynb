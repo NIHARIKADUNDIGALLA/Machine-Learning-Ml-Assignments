{
 "cells": [
  {
   "cell_type": "raw",
   "id": "160aebc3",
   "metadata": {},
   "source": [
    "1)In a linear equation, what is the difference between a dependent variable and an independent variable?\n",
    "Ans:A dependent variable depends on an independent variable, while an independent variable depends on external \n",
    "    manipulation."
   ]
  },
  {
   "cell_type": "raw",
   "id": "e78f7ca2",
   "metadata": {},
   "source": [
    "2)In linear regression, what are the conditions for a positive slope?\n",
    "Ans:If the slope is positive, y increases as x increases,"
   ]
  },
  {
   "cell_type": "raw",
   "id": "ac4197f9",
   "metadata": {},
   "source": [
    "3)In linear regression, what are the conditions for a negative slope?\n",
    "Ans:If the slope is negative, y decreases as x increases ."
   ]
  },
  {
   "cell_type": "raw",
   "id": "2866992c",
   "metadata": {},
   "source": [
    "4)What is multiple linear regression and how does it work?\n",
    "Ans:Multiple linear regression has two or more independent variables to predict the outcome of a dependent variable. "
   ]
  }
 ],
 "metadata": {
  "kernelspec": {
   "display_name": "Python 3 (ipykernel)",
   "language": "python",
   "name": "python3"
  },
  "language_info": {
   "codemirror_mode": {
    "name": "ipython",
    "version": 3
   },
   "file_extension": ".py",
   "mimetype": "text/x-python",
   "name": "python",
   "nbconvert_exporter": "python",
   "pygments_lexer": "ipython3",
   "version": "3.9.7"
  }
 },
 "nbformat": 4,
 "nbformat_minor": 5
}
