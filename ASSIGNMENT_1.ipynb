{
 "cells": [
  {
   "cell_type": "code",
   "execution_count": 28,
   "id": "7ed572ab",
   "metadata": {},
   "outputs": [
    {
     "data": {
      "text/plain": [
       "2"
      ]
     },
     "execution_count": 28,
     "metadata": {},
     "output_type": "execute_result"
    }
   ],
   "source": [
    "##1)Write a function that takes a list of lists and returns the value of all of the symbols in it, where each symbol \n",
    "##adds or takes something from the total score. Symbol values:\n",
    "\n",
    "def check_score(input):\n",
    "    d={'#':5,\"O\":3,\"X\":1,\"!\":-1,\"!!\":-3,\"!!!\":-5}\n",
    "    list=[]\n",
    "    for i in input:\n",
    "        for j in i:\n",
    "            if j in d.keys():\n",
    "                list.append(d[j])\n",
    "    \n",
    "    sum=0\n",
    "    for i in list:\n",
    "        sum=sum+i\n",
    "        \n",
    "    if sum<0:\n",
    "        return 0\n",
    "    else:\n",
    "        return sum\n",
    "    \n",
    "check_score([[\"#\",\"!\"],[\"!!\",\"X\"]])"
   ]
  },
  {
   "cell_type": "code",
   "execution_count": 30,
   "id": "75af9038",
   "metadata": {},
   "outputs": [
    {
     "data": {
      "text/plain": [
       "120"
      ]
     },
     "execution_count": 30,
     "metadata": {},
     "output_type": "execute_result"
    }
   ],
   "source": [
    "#2) Create a function that takes a variable number of arguments, each argument representing the number of items \n",
    "#in a group, and returns the number of permutations (combinations) of items that you could get by taking one item \n",
    "#from each group.\n",
    "\n",
    "def combinations(*args):\n",
    "    comb=1\n",
    "    for i in args:\n",
    "        comb=comb*i\n",
    "    return comb\n",
    "\n",
    "combinations(2,3,4,5)"
   ]
  },
  {
   "cell_type": "code",
   "execution_count": 36,
   "id": "0fa879d3",
   "metadata": {},
   "outputs": [
    {
     "data": {
      "text/plain": [
       "'......-...--. --. -.-.--'"
      ]
     },
     "execution_count": 36,
     "metadata": {},
     "output_type": "execute_result"
    }
   ],
   "source": [
    "#3) Create a function that takes a string as an argument and returns the Morse code equivalent.\n",
    "\n",
    "def encode_morse(input):\n",
    "    char_to_dots = {\n",
    "   'A': '.-', 'B': '-...', 'C': '-.-.', 'D': '-..', 'E': '.', 'F': '..-.',\n",
    "   'G': '--.', 'H': '....', 'I': '..', 'J': '.---', 'K': '-.-', 'L': '.-..',\n",
    "   'M': '--', 'N': '-.', 'O': '---', 'P': '.--.', 'Q': '--.-', 'R': '.-.',\n",
    "   'S': '...', 'T': '-', 'U': '..-', 'V': '...-', 'W': '.--', 'X': '-..-',\n",
    "   'Y': '-.--', 'Z': '--..', ' ': ' ', '0': '-----',\n",
    "   '1': '.----', '2': '..---', '3': '...--', '4': '....-', '5': '.....',\n",
    "   '6': '-....', '7': '--...', '8': '---..', '9': '----.',\n",
    "   '&': '.-...', \"'\": '.----.', '@': '.--.-.', ')': '-.--.-', '(': '-.--.',\n",
    "   ':': '---...', ',': '--..--', '=': '-...-', '!': '-.-.--', '.': '.-.-.-',\n",
    "   '-': '-....-', '+': '.-.-.', '\"': '.-..-.', '?': '..--..', '/': '-..-.'\n",
    "   }\n",
    "    a=[]\n",
    "    for i in input:\n",
    "        if i in char_to_dots.keys():\n",
    "            a.append(char_to_dots[i])\n",
    "    return \"\".join(a)\n",
    "\n",
    "encode_morse(\"HELP ME !\")"
   ]
  },
  {
   "cell_type": "code",
   "execution_count": 44,
   "id": "7dd94455",
   "metadata": {},
   "outputs": [
    {
     "data": {
      "text/plain": [
       "'true'"
      ]
     },
     "execution_count": 44,
     "metadata": {},
     "output_type": "execute_result"
    }
   ],
   "source": [
    "#4)Write a function that takes a number and returns True if it's a prime; False otherwise.\n",
    "\n",
    "def prime(num):\n",
    "    if num>1:\n",
    "        for i in range(2,num):\n",
    "            if num%i==0:\n",
    "                return \"false\"\n",
    "            else:\n",
    "                return \"true\"\n",
    "            \n",
    "prime(56963)"
   ]
  },
  {
   "cell_type": "code",
   "execution_count": 54,
   "id": "d394ca72",
   "metadata": {},
   "outputs": [
    {
     "data": {
      "text/plain": [
       "['false', 'true', 'true', 'false']"
      ]
     },
     "execution_count": 54,
     "metadata": {},
     "output_type": "execute_result"
    }
   ],
   "source": [
    "#5)Create a function that converts a word to a bitstring and then to a boolean list based on the following criteria:\n",
    "#1. Locate the position of the letter in the English alphabet (from 1 to 26).\n",
    "#2. Odd positions will be represented as 1 and 0 otherwise.\n",
    "#3. Convert the represented positions to boolean values, 1 for True and 0 for False.\n",
    "#4. Store the conversions into an array.\n",
    "\n",
    "def to_boolean_list(input):\n",
    "    alpha={\"a\":1,\"b\":2,\"c\":3,\"d\":4,\"e\":5,\"f\":6,\"g\":7,\"h\":8,\"i\":9,\"j\":10,\"k\":11,\"l\":12,\"m\":13,\"n\":14,\"o\":15,\"p\":16,\n",
    "           \"q\":17,\"r\":18,\"s\":19,\"t\":20,\"u\":21,\"v\":22,\"w\":23,\"x\":24,\"y\":25,\"z\":26}\n",
    "    \n",
    "    for k,v in alpha.items():\n",
    "        if v%2==0:\n",
    "            alpha[k]=0\n",
    "        else:\n",
    "            alpha[k]=1\n",
    "    \n",
    "    value=[]\n",
    "    for i in input:\n",
    "        if i in alpha.keys():\n",
    "            value.append(alpha[i])\n",
    "        else:\n",
    "            pass\n",
    "    \n",
    "    list=[]\n",
    "    for i in value:\n",
    "        if i==0:\n",
    "            list.append(\"false\")\n",
    "        else:\n",
    "            list.append(\"true\")\n",
    "            \n",
    "    return list\n",
    "\n",
    "to_boolean_list(\"deep\")"
   ]
  },
  {
   "cell_type": "code",
   "execution_count": null,
   "id": "c7dd209c",
   "metadata": {},
   "outputs": [],
   "source": []
  },
  {
   "cell_type": "code",
   "execution_count": null,
   "id": "3e065bce",
   "metadata": {},
   "outputs": [],
   "source": []
  },
  {
   "cell_type": "code",
   "execution_count": null,
   "id": "824264cd",
   "metadata": {},
   "outputs": [],
   "source": []
  },
  {
   "cell_type": "code",
   "execution_count": null,
   "id": "cc7a5e69",
   "metadata": {},
   "outputs": [],
   "source": []
  },
  {
   "cell_type": "code",
   "execution_count": null,
   "id": "c279fdde",
   "metadata": {},
   "outputs": [],
   "source": []
  },
  {
   "cell_type": "code",
   "execution_count": null,
   "id": "27183c7e",
   "metadata": {},
   "outputs": [],
   "source": []
  }
 ],
 "metadata": {
  "kernelspec": {
   "display_name": "Python 3 (ipykernel)",
   "language": "python",
   "name": "python3"
  },
  "language_info": {
   "codemirror_mode": {
    "name": "ipython",
    "version": 3
   },
   "file_extension": ".py",
   "mimetype": "text/x-python",
   "name": "python",
   "nbconvert_exporter": "python",
   "pygments_lexer": "ipython3",
   "version": "3.9.7"
  }
 },
 "nbformat": 4,
 "nbformat_minor": 5
}
