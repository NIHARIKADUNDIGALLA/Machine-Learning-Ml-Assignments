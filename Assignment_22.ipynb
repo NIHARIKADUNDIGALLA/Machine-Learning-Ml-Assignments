{
 "cells": [
  {
   "cell_type": "raw",
   "id": "d9a701cd",
   "metadata": {},
   "source": [
    "1)What is the advantage of evaluating out of the bag?\n",
    "Ans:Better predictive model."
   ]
  },
  {
   "cell_type": "raw",
   "id": "e314bece",
   "metadata": {},
   "source": [
    "2)Which hyperparameters and how do you tweak if your AdaBoost ensemble underfits the training data?\n",
    "Ans:Increasing the number of estimators or reducing the regularization hyperparameters of the base estimator."
   ]
  },
  {
   "cell_type": "raw",
   "id": "8c643f45",
   "metadata": {},
   "source": [
    "3)Should you raise or decrease the learning rate if your Gradient Boosting ensemble overfits the training set?\n",
    "Ans:Decreasing the learning rate. "
   ]
  }
 ],
 "metadata": {
  "kernelspec": {
   "display_name": "Python 3 (ipykernel)",
   "language": "python",
   "name": "python3"
  },
  "language_info": {
   "codemirror_mode": {
    "name": "ipython",
    "version": 3
   },
   "file_extension": ".py",
   "mimetype": "text/x-python",
   "name": "python",
   "nbconvert_exporter": "python",
   "pygments_lexer": "ipython3",
   "version": "3.9.7"
  }
 },
 "nbformat": 4,
 "nbformat_minor": 5
}
